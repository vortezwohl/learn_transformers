{
 "cells": [
  {
   "metadata": {
    "collapsed": true,
    "ExecuteTime": {
     "end_time": "2024-09-27T09:51:40.053094Z",
     "start_time": "2024-09-27T09:51:37.183802Z"
    }
   },
   "cell_type": "code",
   "source": [
    "# find models on https://huggingface.co/models?library=sentence-transformers&language=zh&sort=downloads\n",
    "from sentence_transformers import SentenceTransformer\n",
    "from dipamkara.embedding import find_distance, Metric\n",
    "from numpy import asarray\n",
    "\n",
    "sentence_model = SentenceTransformer('moka-ai/m3e-small')\n",
    "\n",
    "sentences1 = \"我不是猪\"\n",
    "sentences2 = \"不我是猪\"\n",
    "sentences3 = \"不我不是猪\"\n",
    "sentences4 = \"我是猪吗\"\n",
    "\n",
    "text_embeddings1 = asarray(sentence_model.encode(sentences1).tolist())\n",
    "text_embeddings2 = asarray(sentence_model.encode(sentences2).tolist())\n",
    "text_embeddings3 = asarray(sentence_model.encode(sentences3).tolist())\n",
    "text_embeddings4 = asarray(sentence_model.encode(sentences4).tolist())\n",
    "\n",
    "distance_between_12 = find_distance(text_embeddings1, text_embeddings2, metric=Metric.EUCLIDEAN_Z_SCORE)\n",
    "distance_between_13 = find_distance(text_embeddings1, text_embeddings3, metric=Metric.EUCLIDEAN_Z_SCORE)\n",
    "distance_between_14 = find_distance(text_embeddings1, text_embeddings4, metric=Metric.EUCLIDEAN_Z_SCORE)\n",
    "\n",
    "print(f'{sentences1}:{sentences2} {distance_between_12:.3f}')\n",
    "print(f'{sentences1}:{sentences3} {distance_between_13:.3f}')\n",
    "print(f'{sentences1}:{sentences4} {distance_between_14:.3f}')"
   ],
   "id": "initial_id",
   "outputs": [
    {
     "name": "stdout",
     "output_type": "stream",
     "text": [
      "我不是猪:不我是猪 5.638\n",
      "我不是猪:不我不是猪 5.321\n",
      "我不是猪:我是猪吗 7.881\n"
     ]
    }
   ],
   "execution_count": 15
  }
 ],
 "metadata": {
  "kernelspec": {
   "display_name": "Python 3",
   "language": "python",
   "name": "python3"
  },
  "language_info": {
   "codemirror_mode": {
    "name": "ipython",
    "version": 2
   },
   "file_extension": ".py",
   "mimetype": "text/x-python",
   "name": "python",
   "nbconvert_exporter": "python",
   "pygments_lexer": "ipython2",
   "version": "2.7.6"
  }
 },
 "nbformat": 4,
 "nbformat_minor": 5
}
