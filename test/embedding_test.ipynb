{
 "cells": [
  {
   "metadata": {
    "collapsed": true,
    "ExecuteTime": {
     "end_time": "2024-10-11T05:32:19.546062Z",
     "start_time": "2024-10-11T05:32:16.755869Z"
    }
   },
   "cell_type": "code",
   "source": [
    "# find models on https://huggingface.co/models?library=sentence-transformers&language=zh&sort=downloads\n",
    "from sentence_transformers import SentenceTransformer\n",
    "from dipamkara.embedding import find_distance, Metric\n",
    "from numpy import asarray\n",
    "\n",
    "sentence_model = SentenceTransformer('moka-ai/m3e-small')\n",
    "\n",
    "sentences1 = \"我不是猪\"\n",
    "sentences2 = \"不我是猪\"\n",
    "sentences3 = \"不我不是猪\"\n",
    "sentences4 = \"我是猪吗\"\n",
    "\n",
    "text_embeddings1 = asarray(sentence_model.encode(sentences1).tolist())\n",
    "text_embeddings2 = asarray(sentence_model.encode(sentences2).tolist())\n",
    "text_embeddings3 = asarray(sentence_model.encode(sentences3).tolist())\n",
    "text_embeddings4 = asarray(sentence_model.encode(sentences4).tolist())\n",
    "\n",
    "distance_between_12 = find_distance(text_embeddings1, text_embeddings2, metric=Metric.EUCLIDEAN_Z_SCORE)\n",
    "distance_between_13 = find_distance(text_embeddings1, text_embeddings3, metric=Metric.EUCLIDEAN_Z_SCORE)\n",
    "distance_between_14 = find_distance(text_embeddings1, text_embeddings4, metric=Metric.EUCLIDEAN_Z_SCORE)\n",
    "\n",
    "print(f'{sentences1}:{sentences2} {distance_between_12:.3f}')\n",
    "print(f'{sentences1}:{sentences3} {distance_between_13:.3f}')\n",
    "print(f'{sentences1}:{sentences4} {distance_between_14:.3f}')"
   ],
   "id": "initial_id",
   "outputs": [
    {
     "name": "stdout",
     "output_type": "stream",
     "text": [
      "我不是猪:不我是猪 5.638\n",
      "我不是猪:不我不是猪 5.321\n",
      "我不是猪:我是猪吗 7.881\n"
     ]
    }
   ],
   "execution_count": 56
  },
  {
   "metadata": {
    "ExecuteTime": {
     "end_time": "2024-10-11T05:32:19.675888Z",
     "start_time": "2024-10-11T05:32:19.627143Z"
    }
   },
   "cell_type": "code",
   "source": [
    "from numpy import float64\n",
    "\n",
    "text_embeddings5 = asarray(sentence_model.encode(\"Bhakti\").tolist())\n",
    "text_embeddings6 = asarray(sentence_model.encode(\"这是一个基于KNN搜索轻量级向量数据库\").tolist())\n",
    "text_embeddings7 = asarray(sentence_model.encode(\"吴子豪是世界上最nm牛逼的人\").tolist())\n",
    "distance_between_5_6 = find_distance(text_embeddings5, text_embeddings6, metric=Metric.EUCLIDEAN_Z_SCORE)\n",
    "distance_between_5_65 = find_distance(text_embeddings5, (text_embeddings6 + text_embeddings5) /float64(2.0), metric=Metric.EUCLIDEAN_Z_SCORE)\n",
    "\n",
    "distance_between_7_5 = find_distance(text_embeddings7, text_embeddings6, metric=Metric.EUCLIDEAN_Z_SCORE)\n",
    "distance_between_7_6 = find_distance(text_embeddings7, text_embeddings6, metric=Metric.EUCLIDEAN_Z_SCORE)\n",
    "distance_between_7_65 = find_distance(text_embeddings7, (text_embeddings6 + text_embeddings5) /float64(2.0), metric=Metric.EUCLIDEAN_Z_SCORE)\n",
    "\n",
    "distance_between_5_6, distance_between_5_65, distance_between_7_5, distance_between_7_6, distance_between_7_65"
   ],
   "id": "c18d8e7a0ecb921a",
   "outputs": [
    {
     "data": {
      "text/plain": [
       "(np.float64(17.16014592109654),\n",
       " np.float64(8.011782769385572),\n",
       " np.float64(19.12056674797309),\n",
       " np.float64(19.12056674797309),\n",
       " np.float64(16.796263436609))"
      ]
     },
     "execution_count": 57,
     "metadata": {},
     "output_type": "execute_result"
    }
   ],
   "execution_count": 57
  },
  {
   "metadata": {
    "ExecuteTime": {
     "end_time": "2024-10-11T05:32:19.811288Z",
     "start_time": "2024-10-11T05:32:19.761668Z"
    }
   },
   "cell_type": "code",
   "source": [
    "from numpy import float64\n",
    "\n",
    "text_embeddings5 = asarray(sentence_model.encode(\"Bhakti\").tolist())\n",
    "text_embeddings6 = asarray(sentence_model.encode(\"这是一个基于KNN搜索轻量级向量数据库\").tolist())\n",
    "text_embeddings7 = asarray(sentence_model.encode(\"吴子豪是世界上最nm牛逼的人\").tolist())\n",
    "distance_between_5_6 = find_distance(text_embeddings5, text_embeddings6, metric=Metric.EUCLIDEAN_Z_SCORE)\n",
    "distance_between_5_65 = find_distance(text_embeddings5, (text_embeddings6 + text_embeddings5), metric=Metric.EUCLIDEAN_Z_SCORE)\n",
    "\n",
    "distance_between_7_5 = find_distance(text_embeddings7, text_embeddings6, metric=Metric.EUCLIDEAN_Z_SCORE)\n",
    "distance_between_7_6 = find_distance(text_embeddings7, text_embeddings6, metric=Metric.EUCLIDEAN_Z_SCORE)\n",
    "distance_between_7_65 = find_distance(text_embeddings7, (text_embeddings6 + text_embeddings5), metric=Metric.EUCLIDEAN_Z_SCORE)\n",
    "\n",
    "distance_between_5_6, distance_between_5_65, distance_between_7_5, distance_between_7_6, distance_between_7_65"
   ],
   "id": "d135553657a9d5f0",
   "outputs": [
    {
     "data": {
      "text/plain": [
       "(np.float64(17.16014592109654),\n",
       " np.float64(8.011782769385572),\n",
       " np.float64(19.12056674797309),\n",
       " np.float64(19.12056674797309),\n",
       " np.float64(16.796263436609))"
      ]
     },
     "execution_count": 58,
     "metadata": {},
     "output_type": "execute_result"
    }
   ],
   "execution_count": 58
  }
 ],
 "metadata": {
  "kernelspec": {
   "display_name": "Python 3",
   "language": "python",
   "name": "python3"
  },
  "language_info": {
   "codemirror_mode": {
    "name": "ipython",
    "version": 2
   },
   "file_extension": ".py",
   "mimetype": "text/x-python",
   "name": "python",
   "nbconvert_exporter": "python",
   "pygments_lexer": "ipython2",
   "version": "2.7.6"
  }
 },
 "nbformat": 4,
 "nbformat_minor": 5
}
