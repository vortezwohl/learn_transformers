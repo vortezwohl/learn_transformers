{
 "cells": [
  {
   "metadata": {
    "collapsed": true,
    "ExecuteTime": {
     "end_time": "2024-10-11T13:36:29.280097Z",
     "start_time": "2024-10-11T13:36:26.076862Z"
    }
   },
   "cell_type": "code",
   "source": [
    "# find models on https://huggingface.co/models?library=sentence-transformers&language=zh&sort=downloads\n",
    "from sentence_transformers import SentenceTransformer\n",
    "from dipamkara.embedding import find_distance, Metric\n",
    "from numpy import asarray\n",
    "\n",
    "sentence_model = SentenceTransformer('moka-ai/m3e-small')\n",
    "\n",
    "sentences1 = \"我不是猪\"\n",
    "sentences2 = \"不我是猪\"\n",
    "sentences3 = \"不我不是猪\"\n",
    "sentences4 = \"我是猪吗\"\n",
    "\n",
    "text_embeddings1 = asarray(sentence_model.encode(sentences1).tolist())\n",
    "text_embeddings2 = asarray(sentence_model.encode(sentences2).tolist())\n",
    "text_embeddings3 = asarray(sentence_model.encode(sentences3).tolist())\n",
    "text_embeddings4 = asarray(sentence_model.encode(sentences4).tolist())\n",
    "\n",
    "distance_between_12 = find_distance(text_embeddings1, text_embeddings2, metric=Metric.EUCLIDEAN_Z_SCORE)\n",
    "distance_between_13 = find_distance(text_embeddings1, text_embeddings3, metric=Metric.EUCLIDEAN_Z_SCORE)\n",
    "distance_between_14 = find_distance(text_embeddings1, text_embeddings4, metric=Metric.EUCLIDEAN_Z_SCORE)\n",
    "\n",
    "print(f'{sentences1}:{sentences2} {distance_between_12:.3f}')\n",
    "print(f'{sentences1}:{sentences3} {distance_between_13:.3f}')\n",
    "print(f'{sentences1}:{sentences4} {distance_between_14:.3f}')"
   ],
   "id": "initial_id",
   "outputs": [
    {
     "name": "stdout",
     "output_type": "stream",
     "text": [
      "我不是猪:不我是猪 5.638\n",
      "我不是猪:不我不是猪 5.321\n",
      "我不是猪:我是猪吗 7.881\n"
     ]
    }
   ],
   "execution_count": 33
  },
  {
   "metadata": {
    "ExecuteTime": {
     "end_time": "2024-10-11T13:36:29.418556Z",
     "start_time": "2024-10-11T13:36:29.364725Z"
    }
   },
   "cell_type": "code",
   "source": [
    "sentences5 = \"苹果\"\n",
    "sentences6 = \"这是水果还是科技公司\"\n",
    "sentences7 = \"吴子豪有两个眼睛和一个嘴巴\"\n",
    "\n",
    "text_embeddings5 = asarray(sentence_model.encode(sentences5).tolist())\n",
    "text_embeddings6 = asarray(sentence_model.encode(sentences6).tolist())\n",
    "text_embeddings7 = asarray(sentence_model.encode(sentences7).tolist())\n",
    "\n",
    "distance_between_5_6 = find_distance(text_embeddings5, text_embeddings6, metric=Metric.EUCLIDEAN)\n",
    "distance_between_5_65 = find_distance(text_embeddings5, (text_embeddings6 + text_embeddings5), metric=Metric.EUCLIDEAN)\n",
    "distance_between_7_5 = find_distance(text_embeddings7, text_embeddings6, metric=Metric.EUCLIDEAN)\n",
    "distance_between_7_6 = find_distance(text_embeddings7, text_embeddings6, metric=Metric.EUCLIDEAN)\n",
    "distance_between_7_65 = find_distance(text_embeddings7, (text_embeddings6 + text_embeddings5), metric=Metric.EUCLIDEAN)\n",
    "{\n",
    "    f'metric': Metric.EUCLIDEAN,\n",
    "    f'{sentences5} vs {sentences6}': distance_between_5_6, \n",
    "    f'{sentences5} vs {sentences6} + {sentences5}': distance_between_5_65, \n",
    "    f'{sentences7} vs {sentences5}': distance_between_7_5, \n",
    "    f'{sentences7} vs {sentences6}': distance_between_7_6, \n",
    "    f'{sentences7} vs {sentences6} + {sentences5}': distance_between_7_65\n",
    "}"
   ],
   "id": "c18d8e7a0ecb921a",
   "outputs": [
    {
     "data": {
      "text/plain": [
       "{'metric': <Metric.EUCLIDEAN: 'euclidean'>,\n",
       " '苹果 vs 这是水果还是科技公司': np.float64(10.348851305443796),\n",
       " '苹果 vs 这是水果还是科技公司 + 苹果': np.float64(17.395088547223775),\n",
       " '吴子豪有两个眼睛和一个嘴巴 vs 苹果': np.float64(14.373382783011161),\n",
       " '吴子豪有两个眼睛和一个嘴巴 vs 这是水果还是科技公司': np.float64(14.373382783011161),\n",
       " '吴子豪有两个眼睛和一个嘴巴 vs 这是水果还是科技公司 + 苹果': np.float64(26.359705384131434)}"
      ]
     },
     "execution_count": 34,
     "metadata": {},
     "output_type": "execute_result"
    }
   ],
   "execution_count": 34
  },
  {
   "metadata": {
    "ExecuteTime": {
     "end_time": "2024-10-11T13:36:29.492095Z",
     "start_time": "2024-10-11T13:36:29.441220Z"
    }
   },
   "cell_type": "code",
   "source": [
    "text_embeddings5 = asarray(sentence_model.encode(sentences5).tolist())\n",
    "text_embeddings6 = asarray(sentence_model.encode(sentences6).tolist())\n",
    "text_embeddings7 = asarray(sentence_model.encode(sentences7).tolist())\n",
    "\n",
    "distance_between_5_6 = find_distance(text_embeddings5, text_embeddings6, metric=Metric.EUCLIDEAN_L2)\n",
    "distance_between_5_65 = find_distance(text_embeddings5, (text_embeddings6 + text_embeddings5), metric=Metric.EUCLIDEAN_L2)\n",
    "distance_between_7_5 = find_distance(text_embeddings7, text_embeddings6, metric=Metric.EUCLIDEAN_L2)\n",
    "distance_between_7_6 = find_distance(text_embeddings7, text_embeddings6, metric=Metric.EUCLIDEAN_L2)\n",
    "distance_between_7_65 = find_distance(text_embeddings7, (text_embeddings6 + text_embeddings5), metric=Metric.EUCLIDEAN_L2)\n",
    "{\n",
    "    f'metric': Metric.EUCLIDEAN_L2,\n",
    "    f'{sentences5} vs {sentences6}': distance_between_5_6, \n",
    "    f'{sentences5} vs {sentences6} + {sentences5}': distance_between_5_65, \n",
    "    f'{sentences7} vs {sentences5}': distance_between_7_5, \n",
    "    f'{sentences7} vs {sentences6}': distance_between_7_6, \n",
    "    f'{sentences7} vs {sentences6} + {sentences5}': distance_between_7_65\n",
    "}"
   ],
   "id": "1104121a7e5b46ba",
   "outputs": [
    {
     "data": {
      "text/plain": [
       "{'metric': <Metric.EUCLIDEAN_L2: 'euclidean_l2'>,\n",
       " '苹果 vs 这是水果还是科技公司': np.float64(0.5733254565543235),\n",
       " '苹果 vs 这是水果还是科技公司 + 苹果': np.float64(0.28050320131787926),\n",
       " '吴子豪有两个眼睛和一个嘴巴 vs 苹果': np.float64(0.8481474896191218),\n",
       " '吴子豪有两个眼睛和一个嘴巴 vs 这是水果还是科技公司': np.float64(0.8481474896191218),\n",
       " '吴子豪有两个眼睛和一个嘴巴 vs 这是水果还是科技公司 + 苹果': np.float64(0.8111842003881923)}"
      ]
     },
     "execution_count": 35,
     "metadata": {},
     "output_type": "execute_result"
    }
   ],
   "execution_count": 35
  },
  {
   "metadata": {
    "ExecuteTime": {
     "end_time": "2024-10-11T13:36:29.583368Z",
     "start_time": "2024-10-11T13:36:29.532898Z"
    }
   },
   "cell_type": "code",
   "source": [
    "text_embeddings5 = asarray(sentence_model.encode(sentences5).tolist())\n",
    "text_embeddings6 = asarray(sentence_model.encode(sentences6).tolist())\n",
    "text_embeddings7 = asarray(sentence_model.encode(sentences7).tolist())\n",
    "\n",
    "distance_between_5_6 = find_distance(text_embeddings5, text_embeddings6, metric=Metric.EUCLIDEAN_Z_SCORE)\n",
    "distance_between_5_65 = find_distance(text_embeddings5, (text_embeddings6 + text_embeddings5), metric=Metric.EUCLIDEAN_Z_SCORE)\n",
    "distance_between_7_5 = find_distance(text_embeddings7, text_embeddings6, metric=Metric.EUCLIDEAN_Z_SCORE)\n",
    "distance_between_7_6 = find_distance(text_embeddings7, text_embeddings6, metric=Metric.EUCLIDEAN_Z_SCORE)\n",
    "distance_between_7_65 = find_distance(text_embeddings7, (text_embeddings6 + text_embeddings5), metric=Metric.EUCLIDEAN_Z_SCORE)\n",
    "{\n",
    "    f'metric': Metric.EUCLIDEAN_Z_SCORE,\n",
    "    f'{sentences5} vs {sentences6}': distance_between_5_6, \n",
    "    f'{sentences5} vs {sentences6} + {sentences5}': distance_between_5_65, \n",
    "    f'{sentences7} vs {sentences5}': distance_between_7_5, \n",
    "    f'{sentences7} vs {sentences6}': distance_between_7_6, \n",
    "    f'{sentences7} vs {sentences6} + {sentences5}': distance_between_7_65\n",
    "}"
   ],
   "id": "c478ea98bd9a02bc",
   "outputs": [
    {
     "data": {
      "text/plain": [
       "{'metric': <Metric.EUCLIDEAN_Z_SCORE: 'euclidean_z_score'>,\n",
       " '苹果 vs 这是水果还是科技公司': np.float64(12.973061304265562),\n",
       " '苹果 vs 这是水果还是科技公司 + 苹果': np.float64(6.347148823625168),\n",
       " '吴子豪有两个眼睛和一个嘴巴 vs 苹果': np.float64(19.191669015214906),\n",
       " '吴子豪有两个眼睛和一个嘴巴 vs 这是水果还是科技公司': np.float64(19.191669015214906),\n",
       " '吴子豪有两个眼睛和一个嘴巴 vs 这是水果还是科技公司 + 苹果': np.float64(18.35527376172994)}"
      ]
     },
     "execution_count": 36,
     "metadata": {},
     "output_type": "execute_result"
    }
   ],
   "execution_count": 36
  },
  {
   "metadata": {
    "ExecuteTime": {
     "end_time": "2024-10-11T13:36:29.643637Z",
     "start_time": "2024-10-11T13:36:29.591957Z"
    }
   },
   "cell_type": "code",
   "source": [
    "text_embeddings5 = asarray(sentence_model.encode(sentences5).tolist())\n",
    "text_embeddings6 = asarray(sentence_model.encode(sentences6).tolist())\n",
    "text_embeddings7 = asarray(sentence_model.encode(sentences7).tolist())\n",
    "\n",
    "distance_between_5_6 = find_distance(text_embeddings5, text_embeddings6, metric=Metric.COSINE)\n",
    "distance_between_5_65 = find_distance(text_embeddings5, (text_embeddings6 + text_embeddings5), metric=Metric.COSINE)\n",
    "distance_between_7_5 = find_distance(text_embeddings7, text_embeddings6, metric=Metric.COSINE)\n",
    "distance_between_7_6 = find_distance(text_embeddings7, text_embeddings6, metric=Metric.COSINE)\n",
    "distance_between_7_65 = find_distance(text_embeddings7, (text_embeddings6 + text_embeddings5), metric=Metric.COSINE)\n",
    "{\n",
    "    f'metric': Metric.COSINE,\n",
    "    f'{sentences5} vs {sentences6}': distance_between_5_6, \n",
    "    f'{sentences5} vs {sentences6} + {sentences5}': distance_between_5_65, \n",
    "    f'{sentences7} vs {sentences5}': distance_between_7_5, \n",
    "    f'{sentences7} vs {sentences6}': distance_between_7_6, \n",
    "    f'{sentences7} vs {sentences6} + {sentences5}': distance_between_7_65\n",
    "}"
   ],
   "id": "f89e5fd042334387",
   "outputs": [
    {
     "data": {
      "text/plain": [
       "{'metric': <Metric.COSINE: 'cosine'>,\n",
       " '苹果 vs 这是水果还是科技公司': np.float64(0.16435103956661168),\n",
       " '苹果 vs 这是水果还是科技公司 + 苹果': np.float64(0.039341022974789364),\n",
       " '吴子豪有两个眼睛和一个嘴巴 vs 苹果': np.float64(0.35967708207360927),\n",
       " '吴子豪有两个眼睛和一个嘴巴 vs 这是水果还是科技公司': np.float64(0.35967708207360927),\n",
       " '吴子豪有两个眼睛和一个嘴巴 vs 这是水果还是科技公司 + 苹果': np.float64(0.32900990347971537)}"
      ]
     },
     "execution_count": 37,
     "metadata": {},
     "output_type": "execute_result"
    }
   ],
   "execution_count": 37
  },
  {
   "metadata": {
    "ExecuteTime": {
     "end_time": "2024-10-11T13:36:29.726632Z",
     "start_time": "2024-10-11T13:36:29.683752Z"
    }
   },
   "cell_type": "code",
   "source": [
    "text_embeddings5 = asarray(sentence_model.encode(sentences5).tolist())\n",
    "text_embeddings6 = asarray(sentence_model.encode(sentences6).tolist())\n",
    "text_embeddings7 = asarray(sentence_model.encode(sentences7).tolist())\n",
    "\n",
    "distance_between_5_6 = find_distance(text_embeddings5, text_embeddings6, metric=Metric.CHEBYSHEV)\n",
    "distance_between_5_65 = find_distance(text_embeddings5, (text_embeddings6 + text_embeddings5), metric=Metric.CHEBYSHEV)\n",
    "distance_between_7_5 = find_distance(text_embeddings7, text_embeddings6, metric=Metric.CHEBYSHEV)\n",
    "distance_between_7_6 = find_distance(text_embeddings7, text_embeddings6, metric=Metric.CHEBYSHEV)\n",
    "distance_between_7_65 = find_distance(text_embeddings7, (text_embeddings6 + text_embeddings5), metric=Metric.CHEBYSHEV)\n",
    "{\n",
    "    f'metric': Metric.CHEBYSHEV,\n",
    "    f'{sentences5} vs {sentences6}': distance_between_5_6, \n",
    "    f'{sentences5} vs {sentences6} + {sentences5}': distance_between_5_65, \n",
    "    f'{sentences7} vs {sentences5}': distance_between_7_5, \n",
    "    f'{sentences7} vs {sentences6}': distance_between_7_6, \n",
    "    f'{sentences7} vs {sentences6} + {sentences5}': distance_between_7_65\n",
    "}"
   ],
   "id": "b158e63172515527",
   "outputs": [
    {
     "data": {
      "text/plain": [
       "{'metric': <Metric.CHEBYSHEV: 'chebyshev'>,\n",
       " '苹果 vs 这是水果还是科技公司': np.float64(1.5694004893302917),\n",
       " '苹果 vs 这是水果还是科技公司 + 苹果': np.float64(3.2744686603546143),\n",
       " '吴子豪有两个眼睛和一个嘴巴 vs 苹果': np.float64(2.012061893939972),\n",
       " '吴子豪有两个眼睛和一个嘴巴 vs 这是水果还是科技公司': np.float64(2.012061893939972),\n",
       " '吴子豪有两个眼睛和一个嘴巴 vs 这是水果还是科技公司 + 苹果': np.float64(4.639104247093201)}"
      ]
     },
     "execution_count": 38,
     "metadata": {},
     "output_type": "execute_result"
    }
   ],
   "execution_count": 38
  }
 ],
 "metadata": {
  "kernelspec": {
   "display_name": "Python 3",
   "language": "python",
   "name": "python3"
  },
  "language_info": {
   "codemirror_mode": {
    "name": "ipython",
    "version": 2
   },
   "file_extension": ".py",
   "mimetype": "text/x-python",
   "name": "python",
   "nbconvert_exporter": "python",
   "pygments_lexer": "ipython2",
   "version": "2.7.6"
  }
 },
 "nbformat": 4,
 "nbformat_minor": 5
}
